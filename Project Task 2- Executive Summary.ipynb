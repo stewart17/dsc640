{
 "cells": [
  {
   "cell_type": "code",
   "execution_count": 11,
   "id": "6b789d9c",
   "metadata": {},
   "outputs": [],
   "source": [
    "import pandas as pd\n",
    "import numpy as np"
   ]
  },
  {
   "cell_type": "code",
   "execution_count": 12,
   "id": "0c1c4306",
   "metadata": {},
   "outputs": [],
   "source": [
    "us_accidents = pd.read_excel(\"US Airline Accidents.xlsx\")"
   ]
  },
  {
   "cell_type": "code",
   "execution_count": 13,
   "id": "d7e71055",
   "metadata": {},
   "outputs": [],
   "source": [
    "fatal_accidents = us_accidents[us_accidents[\"Accidents: Fatal\"]!=0][\"Accidents: Fatal\"].sum()"
   ]
  },
  {
   "cell_type": "code",
   "execution_count": 14,
   "id": "fa1be8e2",
   "metadata": {
    "scrolled": true
   },
   "outputs": [
    {
     "data": {
      "text/plain": [
       "19"
      ]
     },
     "execution_count": 14,
     "metadata": {},
     "output_type": "execute_result"
    }
   ],
   "source": [
    "fatal_accidents"
   ]
  },
  {
   "cell_type": "code",
   "execution_count": 15,
   "id": "cb95ca72",
   "metadata": {},
   "outputs": [
    {
     "data": {
      "text/plain": [
       "634"
      ]
     },
     "execution_count": 15,
     "metadata": {},
     "output_type": "execute_result"
    }
   ],
   "source": [
    "us_accidents[\"Accidents: Total\"].sum()"
   ]
  },
  {
   "cell_type": "code",
   "execution_count": 16,
   "id": "2a04aca5",
   "metadata": {},
   "outputs": [
    {
     "data": {
      "text/html": [
       "<div>\n",
       "<style scoped>\n",
       "    .dataframe tbody tr th:only-of-type {\n",
       "        vertical-align: middle;\n",
       "    }\n",
       "\n",
       "    .dataframe tbody tr th {\n",
       "        vertical-align: top;\n",
       "    }\n",
       "\n",
       "    .dataframe thead th {\n",
       "        text-align: right;\n",
       "    }\n",
       "</style>\n",
       "<table border=\"1\" class=\"dataframe\">\n",
       "  <thead>\n",
       "    <tr style=\"text-align: right;\">\n",
       "      <th></th>\n",
       "      <th>Year</th>\n",
       "      <th>Accidents: Total</th>\n",
       "      <th>Accidents: Fatal</th>\n",
       "      <th>Fatal Accidents per 100,000 Departures</th>\n",
       "      <th>Fatalities: Total</th>\n",
       "      <th>Fatalities: Onboard</th>\n",
       "    </tr>\n",
       "  </thead>\n",
       "  <tbody>\n",
       "    <tr>\n",
       "      <th>0</th>\n",
       "      <td>2000</td>\n",
       "      <td>49</td>\n",
       "      <td>2</td>\n",
       "      <td>0.018</td>\n",
       "      <td>89</td>\n",
       "      <td>89</td>\n",
       "    </tr>\n",
       "    <tr>\n",
       "      <th>1</th>\n",
       "      <td>2001</td>\n",
       "      <td>41</td>\n",
       "      <td>6</td>\n",
       "      <td>0.019</td>\n",
       "      <td>531</td>\n",
       "      <td>525</td>\n",
       "    </tr>\n",
       "    <tr>\n",
       "      <th>2</th>\n",
       "      <td>2002</td>\n",
       "      <td>34</td>\n",
       "      <td>0</td>\n",
       "      <td>0.000</td>\n",
       "      <td>0</td>\n",
       "      <td>0</td>\n",
       "    </tr>\n",
       "    <tr>\n",
       "      <th>3</th>\n",
       "      <td>2003</td>\n",
       "      <td>51</td>\n",
       "      <td>2</td>\n",
       "      <td>0.020</td>\n",
       "      <td>22</td>\n",
       "      <td>21</td>\n",
       "    </tr>\n",
       "    <tr>\n",
       "      <th>4</th>\n",
       "      <td>2004</td>\n",
       "      <td>23</td>\n",
       "      <td>1</td>\n",
       "      <td>0.009</td>\n",
       "      <td>13</td>\n",
       "      <td>13</td>\n",
       "    </tr>\n",
       "    <tr>\n",
       "      <th>5</th>\n",
       "      <td>2005</td>\n",
       "      <td>34</td>\n",
       "      <td>3</td>\n",
       "      <td>0.027</td>\n",
       "      <td>22</td>\n",
       "      <td>20</td>\n",
       "    </tr>\n",
       "    <tr>\n",
       "      <th>6</th>\n",
       "      <td>2006</td>\n",
       "      <td>26</td>\n",
       "      <td>2</td>\n",
       "      <td>0.019</td>\n",
       "      <td>50</td>\n",
       "      <td>49</td>\n",
       "    </tr>\n",
       "    <tr>\n",
       "      <th>7</th>\n",
       "      <td>2007</td>\n",
       "      <td>26</td>\n",
       "      <td>0</td>\n",
       "      <td>0.000</td>\n",
       "      <td>0</td>\n",
       "      <td>0</td>\n",
       "    </tr>\n",
       "    <tr>\n",
       "      <th>8</th>\n",
       "      <td>2008</td>\n",
       "      <td>19</td>\n",
       "      <td>0</td>\n",
       "      <td>0.000</td>\n",
       "      <td>0</td>\n",
       "      <td>0</td>\n",
       "    </tr>\n",
       "    <tr>\n",
       "      <th>9</th>\n",
       "      <td>2009</td>\n",
       "      <td>26</td>\n",
       "      <td>1</td>\n",
       "      <td>0.010</td>\n",
       "      <td>50</td>\n",
       "      <td>49</td>\n",
       "    </tr>\n",
       "    <tr>\n",
       "      <th>10</th>\n",
       "      <td>2010</td>\n",
       "      <td>28</td>\n",
       "      <td>0</td>\n",
       "      <td>0.000</td>\n",
       "      <td>0</td>\n",
       "      <td>0</td>\n",
       "    </tr>\n",
       "    <tr>\n",
       "      <th>11</th>\n",
       "      <td>2011</td>\n",
       "      <td>29</td>\n",
       "      <td>0</td>\n",
       "      <td>0.000</td>\n",
       "      <td>0</td>\n",
       "      <td>0</td>\n",
       "    </tr>\n",
       "    <tr>\n",
       "      <th>12</th>\n",
       "      <td>2012</td>\n",
       "      <td>23</td>\n",
       "      <td>0</td>\n",
       "      <td>0.000</td>\n",
       "      <td>0</td>\n",
       "      <td>0</td>\n",
       "    </tr>\n",
       "    <tr>\n",
       "      <th>13</th>\n",
       "      <td>2013</td>\n",
       "      <td>18</td>\n",
       "      <td>0</td>\n",
       "      <td>0.000</td>\n",
       "      <td>0</td>\n",
       "      <td>0</td>\n",
       "    </tr>\n",
       "    <tr>\n",
       "      <th>14</th>\n",
       "      <td>2014</td>\n",
       "      <td>29</td>\n",
       "      <td>0</td>\n",
       "      <td>0.000</td>\n",
       "      <td>0</td>\n",
       "      <td>0</td>\n",
       "    </tr>\n",
       "    <tr>\n",
       "      <th>15</th>\n",
       "      <td>2015</td>\n",
       "      <td>27</td>\n",
       "      <td>0</td>\n",
       "      <td>0.000</td>\n",
       "      <td>0</td>\n",
       "      <td>0</td>\n",
       "    </tr>\n",
       "    <tr>\n",
       "      <th>16</th>\n",
       "      <td>2016</td>\n",
       "      <td>26</td>\n",
       "      <td>0</td>\n",
       "      <td>0.000</td>\n",
       "      <td>0</td>\n",
       "      <td>0</td>\n",
       "    </tr>\n",
       "    <tr>\n",
       "      <th>17</th>\n",
       "      <td>2017</td>\n",
       "      <td>30</td>\n",
       "      <td>0</td>\n",
       "      <td>0.000</td>\n",
       "      <td>0</td>\n",
       "      <td>0</td>\n",
       "    </tr>\n",
       "    <tr>\n",
       "      <th>18</th>\n",
       "      <td>2018</td>\n",
       "      <td>28</td>\n",
       "      <td>1</td>\n",
       "      <td>0.011</td>\n",
       "      <td>1</td>\n",
       "      <td>1</td>\n",
       "    </tr>\n",
       "    <tr>\n",
       "      <th>19</th>\n",
       "      <td>2019</td>\n",
       "      <td>36</td>\n",
       "      <td>1</td>\n",
       "      <td>0.010</td>\n",
       "      <td>1</td>\n",
       "      <td>1</td>\n",
       "    </tr>\n",
       "    <tr>\n",
       "      <th>20</th>\n",
       "      <td>2020</td>\n",
       "      <td>10</td>\n",
       "      <td>0</td>\n",
       "      <td>0.000</td>\n",
       "      <td>0</td>\n",
       "      <td>0</td>\n",
       "    </tr>\n",
       "    <tr>\n",
       "      <th>21</th>\n",
       "      <td>2021</td>\n",
       "      <td>21</td>\n",
       "      <td>0</td>\n",
       "      <td>0.000</td>\n",
       "      <td>0</td>\n",
       "      <td>0</td>\n",
       "    </tr>\n",
       "  </tbody>\n",
       "</table>\n",
       "</div>"
      ],
      "text/plain": [
       "    Year  Accidents: Total  Accidents: Fatal  \\\n",
       "0   2000                49                 2   \n",
       "1   2001                41                 6   \n",
       "2   2002                34                 0   \n",
       "3   2003                51                 2   \n",
       "4   2004                23                 1   \n",
       "5   2005                34                 3   \n",
       "6   2006                26                 2   \n",
       "7   2007                26                 0   \n",
       "8   2008                19                 0   \n",
       "9   2009                26                 1   \n",
       "10  2010                28                 0   \n",
       "11  2011                29                 0   \n",
       "12  2012                23                 0   \n",
       "13  2013                18                 0   \n",
       "14  2014                29                 0   \n",
       "15  2015                27                 0   \n",
       "16  2016                26                 0   \n",
       "17  2017                30                 0   \n",
       "18  2018                28                 1   \n",
       "19  2019                36                 1   \n",
       "20  2020                10                 0   \n",
       "21  2021                21                 0   \n",
       "\n",
       "    Fatal Accidents per 100,000 Departures  Fatalities: Total  \\\n",
       "0                                    0.018                 89   \n",
       "1                                    0.019                531   \n",
       "2                                    0.000                  0   \n",
       "3                                    0.020                 22   \n",
       "4                                    0.009                 13   \n",
       "5                                    0.027                 22   \n",
       "6                                    0.019                 50   \n",
       "7                                    0.000                  0   \n",
       "8                                    0.000                  0   \n",
       "9                                    0.010                 50   \n",
       "10                                   0.000                  0   \n",
       "11                                   0.000                  0   \n",
       "12                                   0.000                  0   \n",
       "13                                   0.000                  0   \n",
       "14                                   0.000                  0   \n",
       "15                                   0.000                  0   \n",
       "16                                   0.000                  0   \n",
       "17                                   0.000                  0   \n",
       "18                                   0.011                  1   \n",
       "19                                   0.010                  1   \n",
       "20                                   0.000                  0   \n",
       "21                                   0.000                  0   \n",
       "\n",
       "    Fatalities: Onboard  \n",
       "0                    89  \n",
       "1                   525  \n",
       "2                     0  \n",
       "3                    21  \n",
       "4                    13  \n",
       "5                    20  \n",
       "6                    49  \n",
       "7                     0  \n",
       "8                     0  \n",
       "9                    49  \n",
       "10                    0  \n",
       "11                    0  \n",
       "12                    0  \n",
       "13                    0  \n",
       "14                    0  \n",
       "15                    0  \n",
       "16                    0  \n",
       "17                    0  \n",
       "18                    1  \n",
       "19                    1  \n",
       "20                    0  \n",
       "21                    0  "
      ]
     },
     "execution_count": 16,
     "metadata": {},
     "output_type": "execute_result"
    }
   ],
   "source": [
    "us_accidents"
   ]
  },
  {
   "cell_type": "code",
   "execution_count": 17,
   "id": "b2f0c8d2",
   "metadata": {},
   "outputs": [],
   "source": [
    "# importing accident lists 2015-2021\n",
    "accidents_2015 = pd.read_excel(\"Accidents and fatalities per year.xlsx\", sheet_name=\"Accident list 2015\")\n",
    "accidents_2016 = pd.read_excel(\"Accidents and fatalities per year.xlsx\", sheet_name=\"Accident list 2016\")\n",
    "accidents_2017 = pd.read_excel(\"Accidents and fatalities per year.xlsx\", sheet_name=\"Accident list 2017\")\n",
    "accidents_2018 = pd.read_excel(\"Accidents and fatalities per year.xlsx\", sheet_name=\"Accident list 2018\")\n",
    "accidents_2019 = pd.read_excel(\"Accidents and fatalities per year.xlsx\", sheet_name=\"Accident list 2019\")\n",
    "accidents_2020 = pd.read_excel(\"Accidents and fatalities per year.xlsx\", sheet_name=\"Accident list 2020\")\n",
    "accidents_2021 = pd.read_excel(\"Accidents and fatalities per year.xlsx\", sheet_name=\"Accident list 2021\")"
   ]
  },
  {
   "cell_type": "code",
   "execution_count": 18,
   "id": "aa7b32d8",
   "metadata": {},
   "outputs": [],
   "source": [
    "# import giant revenue thing for Delta\n",
    "delta = pd.read_excel(\"Traffic&Capacity Delta Airlines.xls\")"
   ]
  },
  {
   "cell_type": "code",
   "execution_count": 19,
   "id": "8beaceea",
   "metadata": {},
   "outputs": [],
   "source": [
    "index2 = delta[delta[\"Delta Airlines\"].str.contains(\"RPM Percentage\")==True].index.values.astype(int)[0]\n",
    "delta_rpm = delta.loc[index2:index2+5]"
   ]
  },
  {
   "cell_type": "code",
   "execution_count": 20,
   "id": "fec48f1f",
   "metadata": {},
   "outputs": [],
   "source": [
    "delta_rpm = delta_rpm.transpose()"
   ]
  },
  {
   "cell_type": "code",
   "execution_count": 21,
   "id": "5cac3cf4",
   "metadata": {},
   "outputs": [],
   "source": [
    "delta_rpm = delta_rpm.drop(\"Delta Airlines\", axis=0)"
   ]
  },
  {
   "cell_type": "code",
   "execution_count": 22,
   "id": "ec348e81",
   "metadata": {},
   "outputs": [],
   "source": [
    "delta_rpm.columns = delta_rpm.iloc[0]"
   ]
  },
  {
   "cell_type": "code",
   "execution_count": 23,
   "id": "96f6698c",
   "metadata": {},
   "outputs": [],
   "source": [
    "delta_rpm = delta_rpm.tail(-1)"
   ]
  },
  {
   "cell_type": "code",
   "execution_count": 24,
   "id": "bcb8b3cc",
   "metadata": {},
   "outputs": [],
   "source": [
    "delta_rpm.reset_index(inplace=True)"
   ]
  },
  {
   "cell_type": "code",
   "execution_count": 25,
   "id": "09fdb4d8",
   "metadata": {},
   "outputs": [],
   "source": [
    "delta_rpm.rename(columns={\"index\":\"Years\"}, inplace=True)"
   ]
  },
  {
   "cell_type": "code",
   "execution_count": 26,
   "id": "721e253e",
   "metadata": {},
   "outputs": [],
   "source": [
    "delta_rpm = delta_rpm.tail(-1)"
   ]
  },
  {
   "cell_type": "code",
   "execution_count": 27,
   "id": "f99e6164",
   "metadata": {},
   "outputs": [],
   "source": [
    "delta_rpm = delta_rpm.reset_index()"
   ]
  },
  {
   "cell_type": "code",
   "execution_count": 28,
   "id": "501ee7b1",
   "metadata": {},
   "outputs": [
    {
     "ename": "KeyError",
     "evalue": "'2015'",
     "output_type": "error",
     "traceback": [
      "\u001b[1;31m---------------------------------------------------------------------------\u001b[0m",
      "\u001b[1;31mKeyError\u001b[0m                                  Traceback (most recent call last)",
      "\u001b[1;32m~\\AppData\\Local\\Temp/ipykernel_29028/581896475.py\u001b[0m in \u001b[0;36m<module>\u001b[1;34m\u001b[0m\n\u001b[1;32m----> 1\u001b[1;33m \u001b[0mdelta_rpm\u001b[0m\u001b[1;33m.\u001b[0m\u001b[0mloc\u001b[0m\u001b[1;33m[\u001b[0m\u001b[1;34m\"2015\"\u001b[0m\u001b[1;33m]\u001b[0m\u001b[1;33m\u001b[0m\u001b[1;33m\u001b[0m\u001b[0m\n\u001b[0m",
      "\u001b[1;32m~\\anaconda3\\lib\\site-packages\\pandas\\core\\indexing.py\u001b[0m in \u001b[0;36m__getitem__\u001b[1;34m(self, key)\u001b[0m\n\u001b[0;32m    929\u001b[0m \u001b[1;33m\u001b[0m\u001b[0m\n\u001b[0;32m    930\u001b[0m             \u001b[0mmaybe_callable\u001b[0m \u001b[1;33m=\u001b[0m \u001b[0mcom\u001b[0m\u001b[1;33m.\u001b[0m\u001b[0mapply_if_callable\u001b[0m\u001b[1;33m(\u001b[0m\u001b[0mkey\u001b[0m\u001b[1;33m,\u001b[0m \u001b[0mself\u001b[0m\u001b[1;33m.\u001b[0m\u001b[0mobj\u001b[0m\u001b[1;33m)\u001b[0m\u001b[1;33m\u001b[0m\u001b[1;33m\u001b[0m\u001b[0m\n\u001b[1;32m--> 931\u001b[1;33m             \u001b[1;32mreturn\u001b[0m \u001b[0mself\u001b[0m\u001b[1;33m.\u001b[0m\u001b[0m_getitem_axis\u001b[0m\u001b[1;33m(\u001b[0m\u001b[0mmaybe_callable\u001b[0m\u001b[1;33m,\u001b[0m \u001b[0maxis\u001b[0m\u001b[1;33m=\u001b[0m\u001b[0maxis\u001b[0m\u001b[1;33m)\u001b[0m\u001b[1;33m\u001b[0m\u001b[1;33m\u001b[0m\u001b[0m\n\u001b[0m\u001b[0;32m    932\u001b[0m \u001b[1;33m\u001b[0m\u001b[0m\n\u001b[0;32m    933\u001b[0m     \u001b[1;32mdef\u001b[0m \u001b[0m_is_scalar_access\u001b[0m\u001b[1;33m(\u001b[0m\u001b[0mself\u001b[0m\u001b[1;33m,\u001b[0m \u001b[0mkey\u001b[0m\u001b[1;33m:\u001b[0m \u001b[0mtuple\u001b[0m\u001b[1;33m)\u001b[0m\u001b[1;33m:\u001b[0m\u001b[1;33m\u001b[0m\u001b[1;33m\u001b[0m\u001b[0m\n",
      "\u001b[1;32m~\\anaconda3\\lib\\site-packages\\pandas\\core\\indexing.py\u001b[0m in \u001b[0;36m_getitem_axis\u001b[1;34m(self, key, axis)\u001b[0m\n\u001b[0;32m   1162\u001b[0m         \u001b[1;31m# fall thru to straight lookup\u001b[0m\u001b[1;33m\u001b[0m\u001b[1;33m\u001b[0m\u001b[0m\n\u001b[0;32m   1163\u001b[0m         \u001b[0mself\u001b[0m\u001b[1;33m.\u001b[0m\u001b[0m_validate_key\u001b[0m\u001b[1;33m(\u001b[0m\u001b[0mkey\u001b[0m\u001b[1;33m,\u001b[0m \u001b[0maxis\u001b[0m\u001b[1;33m)\u001b[0m\u001b[1;33m\u001b[0m\u001b[1;33m\u001b[0m\u001b[0m\n\u001b[1;32m-> 1164\u001b[1;33m         \u001b[1;32mreturn\u001b[0m \u001b[0mself\u001b[0m\u001b[1;33m.\u001b[0m\u001b[0m_get_label\u001b[0m\u001b[1;33m(\u001b[0m\u001b[0mkey\u001b[0m\u001b[1;33m,\u001b[0m \u001b[0maxis\u001b[0m\u001b[1;33m=\u001b[0m\u001b[0maxis\u001b[0m\u001b[1;33m)\u001b[0m\u001b[1;33m\u001b[0m\u001b[1;33m\u001b[0m\u001b[0m\n\u001b[0m\u001b[0;32m   1165\u001b[0m \u001b[1;33m\u001b[0m\u001b[0m\n\u001b[0;32m   1166\u001b[0m     \u001b[1;32mdef\u001b[0m \u001b[0m_get_slice_axis\u001b[0m\u001b[1;33m(\u001b[0m\u001b[0mself\u001b[0m\u001b[1;33m,\u001b[0m \u001b[0mslice_obj\u001b[0m\u001b[1;33m:\u001b[0m \u001b[0mslice\u001b[0m\u001b[1;33m,\u001b[0m \u001b[0maxis\u001b[0m\u001b[1;33m:\u001b[0m \u001b[0mint\u001b[0m\u001b[1;33m)\u001b[0m\u001b[1;33m:\u001b[0m\u001b[1;33m\u001b[0m\u001b[1;33m\u001b[0m\u001b[0m\n",
      "\u001b[1;32m~\\anaconda3\\lib\\site-packages\\pandas\\core\\indexing.py\u001b[0m in \u001b[0;36m_get_label\u001b[1;34m(self, label, axis)\u001b[0m\n\u001b[0;32m   1111\u001b[0m     \u001b[1;32mdef\u001b[0m \u001b[0m_get_label\u001b[0m\u001b[1;33m(\u001b[0m\u001b[0mself\u001b[0m\u001b[1;33m,\u001b[0m \u001b[0mlabel\u001b[0m\u001b[1;33m,\u001b[0m \u001b[0maxis\u001b[0m\u001b[1;33m:\u001b[0m \u001b[0mint\u001b[0m\u001b[1;33m)\u001b[0m\u001b[1;33m:\u001b[0m\u001b[1;33m\u001b[0m\u001b[1;33m\u001b[0m\u001b[0m\n\u001b[0;32m   1112\u001b[0m         \u001b[1;31m# GH#5667 this will fail if the label is not present in the axis.\u001b[0m\u001b[1;33m\u001b[0m\u001b[1;33m\u001b[0m\u001b[0m\n\u001b[1;32m-> 1113\u001b[1;33m         \u001b[1;32mreturn\u001b[0m \u001b[0mself\u001b[0m\u001b[1;33m.\u001b[0m\u001b[0mobj\u001b[0m\u001b[1;33m.\u001b[0m\u001b[0mxs\u001b[0m\u001b[1;33m(\u001b[0m\u001b[0mlabel\u001b[0m\u001b[1;33m,\u001b[0m \u001b[0maxis\u001b[0m\u001b[1;33m=\u001b[0m\u001b[0maxis\u001b[0m\u001b[1;33m)\u001b[0m\u001b[1;33m\u001b[0m\u001b[1;33m\u001b[0m\u001b[0m\n\u001b[0m\u001b[0;32m   1114\u001b[0m \u001b[1;33m\u001b[0m\u001b[0m\n\u001b[0;32m   1115\u001b[0m     \u001b[1;32mdef\u001b[0m \u001b[0m_handle_lowerdim_multi_index_axis0\u001b[0m\u001b[1;33m(\u001b[0m\u001b[0mself\u001b[0m\u001b[1;33m,\u001b[0m \u001b[0mtup\u001b[0m\u001b[1;33m:\u001b[0m \u001b[0mtuple\u001b[0m\u001b[1;33m)\u001b[0m\u001b[1;33m:\u001b[0m\u001b[1;33m\u001b[0m\u001b[1;33m\u001b[0m\u001b[0m\n",
      "\u001b[1;32m~\\anaconda3\\lib\\site-packages\\pandas\\core\\generic.py\u001b[0m in \u001b[0;36mxs\u001b[1;34m(self, key, axis, level, drop_level)\u001b[0m\n\u001b[0;32m   3774\u001b[0m                 \u001b[1;32mraise\u001b[0m \u001b[0mTypeError\u001b[0m\u001b[1;33m(\u001b[0m\u001b[1;34mf\"Expected label or tuple of labels, got {key}\"\u001b[0m\u001b[1;33m)\u001b[0m \u001b[1;32mfrom\u001b[0m \u001b[0me\u001b[0m\u001b[1;33m\u001b[0m\u001b[1;33m\u001b[0m\u001b[0m\n\u001b[0;32m   3775\u001b[0m         \u001b[1;32melse\u001b[0m\u001b[1;33m:\u001b[0m\u001b[1;33m\u001b[0m\u001b[1;33m\u001b[0m\u001b[0m\n\u001b[1;32m-> 3776\u001b[1;33m             \u001b[0mloc\u001b[0m \u001b[1;33m=\u001b[0m \u001b[0mindex\u001b[0m\u001b[1;33m.\u001b[0m\u001b[0mget_loc\u001b[0m\u001b[1;33m(\u001b[0m\u001b[0mkey\u001b[0m\u001b[1;33m)\u001b[0m\u001b[1;33m\u001b[0m\u001b[1;33m\u001b[0m\u001b[0m\n\u001b[0m\u001b[0;32m   3777\u001b[0m \u001b[1;33m\u001b[0m\u001b[0m\n\u001b[0;32m   3778\u001b[0m             \u001b[1;32mif\u001b[0m \u001b[0misinstance\u001b[0m\u001b[1;33m(\u001b[0m\u001b[0mloc\u001b[0m\u001b[1;33m,\u001b[0m \u001b[0mnp\u001b[0m\u001b[1;33m.\u001b[0m\u001b[0mndarray\u001b[0m\u001b[1;33m)\u001b[0m\u001b[1;33m:\u001b[0m\u001b[1;33m\u001b[0m\u001b[1;33m\u001b[0m\u001b[0m\n",
      "\u001b[1;32m~\\anaconda3\\lib\\site-packages\\pandas\\core\\indexes\\range.py\u001b[0m in \u001b[0;36mget_loc\u001b[1;34m(self, key, method, tolerance)\u001b[0m\n\u001b[0;32m    386\u001b[0m                 \u001b[1;32mexcept\u001b[0m \u001b[0mValueError\u001b[0m \u001b[1;32mas\u001b[0m \u001b[0merr\u001b[0m\u001b[1;33m:\u001b[0m\u001b[1;33m\u001b[0m\u001b[1;33m\u001b[0m\u001b[0m\n\u001b[0;32m    387\u001b[0m                     \u001b[1;32mraise\u001b[0m \u001b[0mKeyError\u001b[0m\u001b[1;33m(\u001b[0m\u001b[0mkey\u001b[0m\u001b[1;33m)\u001b[0m \u001b[1;32mfrom\u001b[0m \u001b[0merr\u001b[0m\u001b[1;33m\u001b[0m\u001b[1;33m\u001b[0m\u001b[0m\n\u001b[1;32m--> 388\u001b[1;33m             \u001b[1;32mraise\u001b[0m \u001b[0mKeyError\u001b[0m\u001b[1;33m(\u001b[0m\u001b[0mkey\u001b[0m\u001b[1;33m)\u001b[0m\u001b[1;33m\u001b[0m\u001b[1;33m\u001b[0m\u001b[0m\n\u001b[0m\u001b[0;32m    389\u001b[0m         \u001b[1;32mreturn\u001b[0m \u001b[0msuper\u001b[0m\u001b[1;33m(\u001b[0m\u001b[1;33m)\u001b[0m\u001b[1;33m.\u001b[0m\u001b[0mget_loc\u001b[0m\u001b[1;33m(\u001b[0m\u001b[0mkey\u001b[0m\u001b[1;33m,\u001b[0m \u001b[0mmethod\u001b[0m\u001b[1;33m=\u001b[0m\u001b[0mmethod\u001b[0m\u001b[1;33m,\u001b[0m \u001b[0mtolerance\u001b[0m\u001b[1;33m=\u001b[0m\u001b[0mtolerance\u001b[0m\u001b[1;33m)\u001b[0m\u001b[1;33m\u001b[0m\u001b[1;33m\u001b[0m\u001b[0m\n\u001b[0;32m    390\u001b[0m \u001b[1;33m\u001b[0m\u001b[0m\n",
      "\u001b[1;31mKeyError\u001b[0m: '2015'"
     ]
    }
   ],
   "source": [
    "delta_rpm.loc[\"2015\"]"
   ]
  },
  {
   "cell_type": "code",
   "execution_count": 29,
   "id": "1edd4e9c",
   "metadata": {
    "scrolled": true
   },
   "outputs": [
    {
     "data": {
      "text/plain": [
       "Index([              'index',               'Years',                   nan,\n",
       "            'RPM - Atlantic', 'RPM - Latin America',       'RPM - Pacific',\n",
       "            'RPM - Domestic', 'RPM - International'],\n",
       "      dtype='object', name='Unnamed: 1')"
      ]
     },
     "execution_count": 29,
     "metadata": {},
     "output_type": "execute_result"
    }
   ],
   "source": [
    "delta_rpm.columns"
   ]
  },
  {
   "cell_type": "code",
   "execution_count": 30,
   "id": "616e7ee8",
   "metadata": {},
   "outputs": [
    {
     "ename": "KeyError",
     "evalue": "2015",
     "output_type": "error",
     "traceback": [
      "\u001b[1;31m---------------------------------------------------------------------------\u001b[0m",
      "\u001b[1;31mKeyError\u001b[0m                                  Traceback (most recent call last)",
      "\u001b[1;32m~\\anaconda3\\lib\\site-packages\\pandas\\core\\indexes\\base.py\u001b[0m in \u001b[0;36mget_loc\u001b[1;34m(self, key, method, tolerance)\u001b[0m\n\u001b[0;32m   3360\u001b[0m             \u001b[1;32mtry\u001b[0m\u001b[1;33m:\u001b[0m\u001b[1;33m\u001b[0m\u001b[1;33m\u001b[0m\u001b[0m\n\u001b[1;32m-> 3361\u001b[1;33m                 \u001b[1;32mreturn\u001b[0m \u001b[0mself\u001b[0m\u001b[1;33m.\u001b[0m\u001b[0m_engine\u001b[0m\u001b[1;33m.\u001b[0m\u001b[0mget_loc\u001b[0m\u001b[1;33m(\u001b[0m\u001b[0mcasted_key\u001b[0m\u001b[1;33m)\u001b[0m\u001b[1;33m\u001b[0m\u001b[1;33m\u001b[0m\u001b[0m\n\u001b[0m\u001b[0;32m   3362\u001b[0m             \u001b[1;32mexcept\u001b[0m \u001b[0mKeyError\u001b[0m \u001b[1;32mas\u001b[0m \u001b[0merr\u001b[0m\u001b[1;33m:\u001b[0m\u001b[1;33m\u001b[0m\u001b[1;33m\u001b[0m\u001b[0m\n",
      "\u001b[1;32m~\\anaconda3\\lib\\site-packages\\pandas\\_libs\\index.pyx\u001b[0m in \u001b[0;36mpandas._libs.index.IndexEngine.get_loc\u001b[1;34m()\u001b[0m\n",
      "\u001b[1;32m~\\anaconda3\\lib\\site-packages\\pandas\\_libs\\index.pyx\u001b[0m in \u001b[0;36mpandas._libs.index.IndexEngine.get_loc\u001b[1;34m()\u001b[0m\n",
      "\u001b[1;32mpandas\\_libs\\hashtable_class_helper.pxi\u001b[0m in \u001b[0;36mpandas._libs.hashtable.PyObjectHashTable.get_item\u001b[1;34m()\u001b[0m\n",
      "\u001b[1;32mpandas\\_libs\\hashtable_class_helper.pxi\u001b[0m in \u001b[0;36mpandas._libs.hashtable.PyObjectHashTable.get_item\u001b[1;34m()\u001b[0m\n",
      "\u001b[1;31mKeyError\u001b[0m: 2015",
      "\nThe above exception was the direct cause of the following exception:\n",
      "\u001b[1;31mKeyError\u001b[0m                                  Traceback (most recent call last)",
      "\u001b[1;32m~\\AppData\\Local\\Temp/ipykernel_29028/4199133471.py\u001b[0m in \u001b[0;36m<module>\u001b[1;34m\u001b[0m\n\u001b[1;32m----> 1\u001b[1;33m \u001b[0mdelta_rpm\u001b[0m\u001b[1;33m[\u001b[0m\u001b[1;36m2015\u001b[0m\u001b[1;33m]\u001b[0m\u001b[1;33m\u001b[0m\u001b[1;33m\u001b[0m\u001b[0m\n\u001b[0m",
      "\u001b[1;32m~\\anaconda3\\lib\\site-packages\\pandas\\core\\frame.py\u001b[0m in \u001b[0;36m__getitem__\u001b[1;34m(self, key)\u001b[0m\n\u001b[0;32m   3456\u001b[0m             \u001b[1;32mif\u001b[0m \u001b[0mself\u001b[0m\u001b[1;33m.\u001b[0m\u001b[0mcolumns\u001b[0m\u001b[1;33m.\u001b[0m\u001b[0mnlevels\u001b[0m \u001b[1;33m>\u001b[0m \u001b[1;36m1\u001b[0m\u001b[1;33m:\u001b[0m\u001b[1;33m\u001b[0m\u001b[1;33m\u001b[0m\u001b[0m\n\u001b[0;32m   3457\u001b[0m                 \u001b[1;32mreturn\u001b[0m \u001b[0mself\u001b[0m\u001b[1;33m.\u001b[0m\u001b[0m_getitem_multilevel\u001b[0m\u001b[1;33m(\u001b[0m\u001b[0mkey\u001b[0m\u001b[1;33m)\u001b[0m\u001b[1;33m\u001b[0m\u001b[1;33m\u001b[0m\u001b[0m\n\u001b[1;32m-> 3458\u001b[1;33m             \u001b[0mindexer\u001b[0m \u001b[1;33m=\u001b[0m \u001b[0mself\u001b[0m\u001b[1;33m.\u001b[0m\u001b[0mcolumns\u001b[0m\u001b[1;33m.\u001b[0m\u001b[0mget_loc\u001b[0m\u001b[1;33m(\u001b[0m\u001b[0mkey\u001b[0m\u001b[1;33m)\u001b[0m\u001b[1;33m\u001b[0m\u001b[1;33m\u001b[0m\u001b[0m\n\u001b[0m\u001b[0;32m   3459\u001b[0m             \u001b[1;32mif\u001b[0m \u001b[0mis_integer\u001b[0m\u001b[1;33m(\u001b[0m\u001b[0mindexer\u001b[0m\u001b[1;33m)\u001b[0m\u001b[1;33m:\u001b[0m\u001b[1;33m\u001b[0m\u001b[1;33m\u001b[0m\u001b[0m\n\u001b[0;32m   3460\u001b[0m                 \u001b[0mindexer\u001b[0m \u001b[1;33m=\u001b[0m \u001b[1;33m[\u001b[0m\u001b[0mindexer\u001b[0m\u001b[1;33m]\u001b[0m\u001b[1;33m\u001b[0m\u001b[1;33m\u001b[0m\u001b[0m\n",
      "\u001b[1;32m~\\anaconda3\\lib\\site-packages\\pandas\\core\\indexes\\base.py\u001b[0m in \u001b[0;36mget_loc\u001b[1;34m(self, key, method, tolerance)\u001b[0m\n\u001b[0;32m   3361\u001b[0m                 \u001b[1;32mreturn\u001b[0m \u001b[0mself\u001b[0m\u001b[1;33m.\u001b[0m\u001b[0m_engine\u001b[0m\u001b[1;33m.\u001b[0m\u001b[0mget_loc\u001b[0m\u001b[1;33m(\u001b[0m\u001b[0mcasted_key\u001b[0m\u001b[1;33m)\u001b[0m\u001b[1;33m\u001b[0m\u001b[1;33m\u001b[0m\u001b[0m\n\u001b[0;32m   3362\u001b[0m             \u001b[1;32mexcept\u001b[0m \u001b[0mKeyError\u001b[0m \u001b[1;32mas\u001b[0m \u001b[0merr\u001b[0m\u001b[1;33m:\u001b[0m\u001b[1;33m\u001b[0m\u001b[1;33m\u001b[0m\u001b[0m\n\u001b[1;32m-> 3363\u001b[1;33m                 \u001b[1;32mraise\u001b[0m \u001b[0mKeyError\u001b[0m\u001b[1;33m(\u001b[0m\u001b[0mkey\u001b[0m\u001b[1;33m)\u001b[0m \u001b[1;32mfrom\u001b[0m \u001b[0merr\u001b[0m\u001b[1;33m\u001b[0m\u001b[1;33m\u001b[0m\u001b[0m\n\u001b[0m\u001b[0;32m   3364\u001b[0m \u001b[1;33m\u001b[0m\u001b[0m\n\u001b[0;32m   3365\u001b[0m         \u001b[1;32mif\u001b[0m \u001b[0mis_scalar\u001b[0m\u001b[1;33m(\u001b[0m\u001b[0mkey\u001b[0m\u001b[1;33m)\u001b[0m \u001b[1;32mand\u001b[0m \u001b[0misna\u001b[0m\u001b[1;33m(\u001b[0m\u001b[0mkey\u001b[0m\u001b[1;33m)\u001b[0m \u001b[1;32mand\u001b[0m \u001b[1;32mnot\u001b[0m \u001b[0mself\u001b[0m\u001b[1;33m.\u001b[0m\u001b[0mhasnans\u001b[0m\u001b[1;33m:\u001b[0m\u001b[1;33m\u001b[0m\u001b[1;33m\u001b[0m\u001b[0m\n",
      "\u001b[1;31mKeyError\u001b[0m: 2015"
     ]
    }
   ],
   "source": [
    "delta_rpm[2015]"
   ]
  },
  {
   "cell_type": "code",
   "execution_count": 32,
   "id": "2a1fb4bc",
   "metadata": {
    "scrolled": true
   },
   "outputs": [
    {
     "ename": "KeyError",
     "evalue": "\"None of [Int64Index([2015, 2016, 2017, 2018, 2019, 2020], dtype='int64', name='Unnamed: 1')] are in the [columns]\"",
     "output_type": "error",
     "traceback": [
      "\u001b[1;31m---------------------------------------------------------------------------\u001b[0m",
      "\u001b[1;31mKeyError\u001b[0m                                  Traceback (most recent call last)",
      "\u001b[1;32m~\\AppData\\Local\\Temp/ipykernel_29028/2655340686.py\u001b[0m in \u001b[0;36m<module>\u001b[1;34m\u001b[0m\n\u001b[1;32m----> 1\u001b[1;33m \u001b[0mdelta_rpm\u001b[0m\u001b[1;33m[\u001b[0m\u001b[1;34m\"avg_rpm\"\u001b[0m\u001b[1;33m]\u001b[0m \u001b[1;33m=\u001b[0m \u001b[0mdelta_rpm\u001b[0m\u001b[1;33m[\u001b[0m\u001b[1;33m[\u001b[0m\u001b[1;36m2015\u001b[0m\u001b[1;33m,\u001b[0m \u001b[1;36m2016\u001b[0m\u001b[1;33m,\u001b[0m\u001b[1;36m2017\u001b[0m\u001b[1;33m,\u001b[0m\u001b[1;36m2018\u001b[0m\u001b[1;33m,\u001b[0m\u001b[1;36m2019\u001b[0m\u001b[1;33m,\u001b[0m\u001b[1;36m2020\u001b[0m\u001b[1;33m]\u001b[0m\u001b[1;33m]\u001b[0m\u001b[1;33m.\u001b[0m\u001b[0mmean\u001b[0m\u001b[1;33m(\u001b[0m\u001b[0maxis\u001b[0m\u001b[1;33m=\u001b[0m\u001b[1;36m1\u001b[0m\u001b[1;33m)\u001b[0m\u001b[1;33m\u001b[0m\u001b[1;33m\u001b[0m\u001b[0m\n\u001b[0m",
      "\u001b[1;32m~\\anaconda3\\lib\\site-packages\\pandas\\core\\frame.py\u001b[0m in \u001b[0;36m__getitem__\u001b[1;34m(self, key)\u001b[0m\n\u001b[0;32m   3462\u001b[0m             \u001b[1;32mif\u001b[0m \u001b[0mis_iterator\u001b[0m\u001b[1;33m(\u001b[0m\u001b[0mkey\u001b[0m\u001b[1;33m)\u001b[0m\u001b[1;33m:\u001b[0m\u001b[1;33m\u001b[0m\u001b[1;33m\u001b[0m\u001b[0m\n\u001b[0;32m   3463\u001b[0m                 \u001b[0mkey\u001b[0m \u001b[1;33m=\u001b[0m \u001b[0mlist\u001b[0m\u001b[1;33m(\u001b[0m\u001b[0mkey\u001b[0m\u001b[1;33m)\u001b[0m\u001b[1;33m\u001b[0m\u001b[1;33m\u001b[0m\u001b[0m\n\u001b[1;32m-> 3464\u001b[1;33m             \u001b[0mindexer\u001b[0m \u001b[1;33m=\u001b[0m \u001b[0mself\u001b[0m\u001b[1;33m.\u001b[0m\u001b[0mloc\u001b[0m\u001b[1;33m.\u001b[0m\u001b[0m_get_listlike_indexer\u001b[0m\u001b[1;33m(\u001b[0m\u001b[0mkey\u001b[0m\u001b[1;33m,\u001b[0m \u001b[0maxis\u001b[0m\u001b[1;33m=\u001b[0m\u001b[1;36m1\u001b[0m\u001b[1;33m)\u001b[0m\u001b[1;33m[\u001b[0m\u001b[1;36m1\u001b[0m\u001b[1;33m]\u001b[0m\u001b[1;33m\u001b[0m\u001b[1;33m\u001b[0m\u001b[0m\n\u001b[0m\u001b[0;32m   3465\u001b[0m \u001b[1;33m\u001b[0m\u001b[0m\n\u001b[0;32m   3466\u001b[0m         \u001b[1;31m# take() does not accept boolean indexers\u001b[0m\u001b[1;33m\u001b[0m\u001b[1;33m\u001b[0m\u001b[0m\n",
      "\u001b[1;32m~\\anaconda3\\lib\\site-packages\\pandas\\core\\indexing.py\u001b[0m in \u001b[0;36m_get_listlike_indexer\u001b[1;34m(self, key, axis)\u001b[0m\n\u001b[0;32m   1312\u001b[0m             \u001b[0mkeyarr\u001b[0m\u001b[1;33m,\u001b[0m \u001b[0mindexer\u001b[0m\u001b[1;33m,\u001b[0m \u001b[0mnew_indexer\u001b[0m \u001b[1;33m=\u001b[0m \u001b[0max\u001b[0m\u001b[1;33m.\u001b[0m\u001b[0m_reindex_non_unique\u001b[0m\u001b[1;33m(\u001b[0m\u001b[0mkeyarr\u001b[0m\u001b[1;33m)\u001b[0m\u001b[1;33m\u001b[0m\u001b[1;33m\u001b[0m\u001b[0m\n\u001b[0;32m   1313\u001b[0m \u001b[1;33m\u001b[0m\u001b[0m\n\u001b[1;32m-> 1314\u001b[1;33m         \u001b[0mself\u001b[0m\u001b[1;33m.\u001b[0m\u001b[0m_validate_read_indexer\u001b[0m\u001b[1;33m(\u001b[0m\u001b[0mkeyarr\u001b[0m\u001b[1;33m,\u001b[0m \u001b[0mindexer\u001b[0m\u001b[1;33m,\u001b[0m \u001b[0maxis\u001b[0m\u001b[1;33m)\u001b[0m\u001b[1;33m\u001b[0m\u001b[1;33m\u001b[0m\u001b[0m\n\u001b[0m\u001b[0;32m   1315\u001b[0m \u001b[1;33m\u001b[0m\u001b[0m\n\u001b[0;32m   1316\u001b[0m         if needs_i8_conversion(ax.dtype) or isinstance(\n",
      "\u001b[1;32m~\\anaconda3\\lib\\site-packages\\pandas\\core\\indexing.py\u001b[0m in \u001b[0;36m_validate_read_indexer\u001b[1;34m(self, key, indexer, axis)\u001b[0m\n\u001b[0;32m   1372\u001b[0m                 \u001b[1;32mif\u001b[0m \u001b[0muse_interval_msg\u001b[0m\u001b[1;33m:\u001b[0m\u001b[1;33m\u001b[0m\u001b[1;33m\u001b[0m\u001b[0m\n\u001b[0;32m   1373\u001b[0m                     \u001b[0mkey\u001b[0m \u001b[1;33m=\u001b[0m \u001b[0mlist\u001b[0m\u001b[1;33m(\u001b[0m\u001b[0mkey\u001b[0m\u001b[1;33m)\u001b[0m\u001b[1;33m\u001b[0m\u001b[1;33m\u001b[0m\u001b[0m\n\u001b[1;32m-> 1374\u001b[1;33m                 \u001b[1;32mraise\u001b[0m \u001b[0mKeyError\u001b[0m\u001b[1;33m(\u001b[0m\u001b[1;34mf\"None of [{key}] are in the [{axis_name}]\"\u001b[0m\u001b[1;33m)\u001b[0m\u001b[1;33m\u001b[0m\u001b[1;33m\u001b[0m\u001b[0m\n\u001b[0m\u001b[0;32m   1375\u001b[0m \u001b[1;33m\u001b[0m\u001b[0m\n\u001b[0;32m   1376\u001b[0m             \u001b[0mnot_found\u001b[0m \u001b[1;33m=\u001b[0m \u001b[0mlist\u001b[0m\u001b[1;33m(\u001b[0m\u001b[0mensure_index\u001b[0m\u001b[1;33m(\u001b[0m\u001b[0mkey\u001b[0m\u001b[1;33m)\u001b[0m\u001b[1;33m[\u001b[0m\u001b[0mmissing_mask\u001b[0m\u001b[1;33m.\u001b[0m\u001b[0mnonzero\u001b[0m\u001b[1;33m(\u001b[0m\u001b[1;33m)\u001b[0m\u001b[1;33m[\u001b[0m\u001b[1;36m0\u001b[0m\u001b[1;33m]\u001b[0m\u001b[1;33m]\u001b[0m\u001b[1;33m.\u001b[0m\u001b[0munique\u001b[0m\u001b[1;33m(\u001b[0m\u001b[1;33m)\u001b[0m\u001b[1;33m)\u001b[0m\u001b[1;33m\u001b[0m\u001b[1;33m\u001b[0m\u001b[0m\n",
      "\u001b[1;31mKeyError\u001b[0m: \"None of [Int64Index([2015, 2016, 2017, 2018, 2019, 2020], dtype='int64', name='Unnamed: 1')] are in the [columns]\""
     ]
    }
   ],
   "source": [
    "delta_rpm[\"avg_rpm\"] = delta_rpm[[2015, 2016,2017,2018,2019,2020]].mean(axis=1)"
   ]
  },
  {
   "cell_type": "code",
   "execution_count": null,
   "id": "7c0da9b4",
   "metadata": {},
   "outputs": [],
   "source": [
    "delta_rpm"
   ]
  },
  {
   "cell_type": "code",
   "execution_count": null,
   "id": "2353b124",
   "metadata": {},
   "outputs": [],
   "source": [
    "delta_rpm.avg_rpm.sum()"
   ]
  },
  {
   "cell_type": "code",
   "execution_count": null,
   "id": "884c4f0e",
   "metadata": {},
   "outputs": [],
   "source": [
    "delta_rpm_5yr = delta_rpm.tail(6) "
   ]
  },
  {
   "cell_type": "code",
   "execution_count": null,
   "id": "aa13d65d",
   "metadata": {},
   "outputs": [],
   "source": [
    "delta_rpm_5yr"
   ]
  },
  {
   "cell_type": "code",
   "execution_count": null,
   "id": "04644597",
   "metadata": {},
   "outputs": [],
   "source": []
  },
  {
   "cell_type": "code",
   "execution_count": null,
   "id": "ab5054b1",
   "metadata": {
    "scrolled": true
   },
   "outputs": [],
   "source": [
    "delta"
   ]
  },
  {
   "cell_type": "markdown",
   "id": "4b837b38",
   "metadata": {},
   "source": [
    "I'll need to rotate, choose which categories im interested in since i definitely don't need it all"
   ]
  },
  {
   "cell_type": "code",
   "execution_count": null,
   "id": "23c3b2d8",
   "metadata": {},
   "outputs": [],
   "source": [
    "delta.columns"
   ]
  },
  {
   "cell_type": "code",
   "execution_count": null,
   "id": "8f42e339",
   "metadata": {
    "scrolled": true
   },
   "outputs": [],
   "source": [
    "index1 = delta[delta[\"Delta Airlines\"].str.contains(\"Total\")==True].index.values.astype(int)[0]\n",
    "res1 = delta.loc[index1:index1+5]\n",
    "res1"
   ]
  },
  {
   "cell_type": "code",
   "execution_count": null,
   "id": "e32a2c3d",
   "metadata": {},
   "outputs": [],
   "source": [
    "delta_total.columns = delta_total.iloc[0]"
   ]
  },
  {
   "cell_type": "code",
   "execution_count": null,
   "id": "6fc546d2",
   "metadata": {},
   "outputs": [],
   "source": [
    "delta_total.columns"
   ]
  },
  {
   "cell_type": "code",
   "execution_count": null,
   "id": "871d130b",
   "metadata": {
    "scrolled": true
   },
   "outputs": [],
   "source": [
    "delta_total = res1.transpose()\n",
    "delta_total\n",
    "delta_total.drop([\"Delta Airlines\"], axis=0, inplace=True)"
   ]
  },
  {
   "cell_type": "code",
   "execution_count": null,
   "id": "ef7f4105",
   "metadata": {},
   "outputs": [],
   "source": [
    "delta_total.drop([\"Unnamed: 1\"], inplace=True)"
   ]
  },
  {
   "cell_type": "code",
   "execution_count": null,
   "id": "63dcf02c",
   "metadata": {},
   "outputs": [],
   "source": [
    "delta_total"
   ]
  },
  {
   "cell_type": "code",
   "execution_count": null,
   "id": "a4c1d84a",
   "metadata": {},
   "outputs": [],
   "source": [
    "delta_total.rename(columns={\"Unnamed: 1\":\"Year\"}, inplace=True)"
   ]
  },
  {
   "cell_type": "code",
   "execution_count": null,
   "id": "233ca5b9",
   "metadata": {},
   "outputs": [],
   "source": [
    "delta_total"
   ]
  },
  {
   "cell_type": "code",
   "execution_count": null,
   "id": "5db713b8",
   "metadata": {},
   "outputs": [],
   "source": [
    "delta_total.reset_index(inplace=True)"
   ]
  },
  {
   "cell_type": "code",
   "execution_count": null,
   "id": "35b869ef",
   "metadata": {},
   "outputs": [],
   "source": [
    "delta_total.rename(columns={\"Unnamed: 1\":\"Year\"}, inplace=True)"
   ]
  },
  {
   "cell_type": "code",
   "execution_count": null,
   "id": "91ea8c69",
   "metadata": {},
   "outputs": [],
   "source": [
    "delta_total"
   ]
  },
  {
   "cell_type": "code",
   "execution_count": null,
   "id": "2988aed6",
   "metadata": {},
   "outputs": [],
   "source": [
    "delta_total = delta_total.tail(-1)"
   ]
  },
  {
   "cell_type": "code",
   "execution_count": null,
   "id": "24801e02",
   "metadata": {},
   "outputs": [],
   "source": [
    "delta_total.drop()"
   ]
  },
  {
   "cell_type": "code",
   "execution_count": null,
   "id": "162a8ca0",
   "metadata": {
    "scrolled": true
   },
   "outputs": [],
   "source": [
    "accidents_2015"
   ]
  },
  {
   "cell_type": "code",
   "execution_count": null,
   "id": "95a4b6b5",
   "metadata": {},
   "outputs": [],
   "source": [
    "accidents_2015"
   ]
  },
  {
   "cell_type": "code",
   "execution_count": null,
   "id": "dfe6338f",
   "metadata": {
    "scrolled": false
   },
   "outputs": [],
   "source": [
    "# focus only on passenger flights\n",
    "index = accidents_2015[accidents_2015[\"#\"].str.contains(\"Non-commercial aircraft accidents\")==True].index.values.astype(int)[0]\n",
    "res = accidents_2015.loc[:index-1]\n",
    "res = res[res[\"#\"].notna()]\n",
    "res"
   ]
  },
  {
   "cell_type": "code",
   "execution_count": null,
   "id": "5862a117",
   "metadata": {},
   "outputs": [],
   "source": [
    "def passenger_only(year):\n",
    "    index = year[year[\"#\"].str.contains(\"Non-commercial aircraft accidents\")==True].index.values.astype(int)[0]\n",
    "    res = year.loc[:index-1]\n",
    "    res= res[res[\"#\"].notna()]\n",
    "    return res"
   ]
  },
  {
   "cell_type": "code",
   "execution_count": null,
   "id": "a553f53c",
   "metadata": {},
   "outputs": [],
   "source": [
    "pass_acc_2015 = passenger_only(accidents_2015)\n",
    "pass_acc_2016 = passenger_only(accidents_2016)\n",
    "pass_acc_2017 = passenger_only(accidents_2017)\n",
    "pass_acc_2018 = passenger_only(accidents_2018)\n",
    "pass_acc_2019 = passenger_only(accidents_2019)\n",
    "pass_acc_2020 = passenger_only(accidents_2020)\n",
    "pass_acc_2021 = passenger_only(accidents_2021)"
   ]
  },
  {
   "cell_type": "code",
   "execution_count": null,
   "id": "a826936e",
   "metadata": {
    "scrolled": true
   },
   "outputs": [],
   "source": [
    "pass_acc_2018"
   ]
  },
  {
   "cell_type": "code",
   "execution_count": null,
   "id": "16942ab0",
   "metadata": {},
   "outputs": [],
   "source": [
    "# lets concat these shit\n",
    "pass_accidents = pd.concat([pass_acc_2015, pass_acc_2016, pass_acc_2017, pass_acc_2018, pass_acc_2019, pass_acc_2020, pass_acc_2021])"
   ]
  },
  {
   "cell_type": "code",
   "execution_count": null,
   "id": "9dfdce58",
   "metadata": {
    "scrolled": true
   },
   "outputs": [],
   "source": [
    "pass_accidents"
   ]
  },
  {
   "cell_type": "code",
   "execution_count": null,
   "id": "75d473cd",
   "metadata": {
    "scrolled": true
   },
   "outputs": [],
   "source": [
    "pass_accidents[pass_accidents[\"Operator\"]==\"Delta\"]"
   ]
  },
  {
   "cell_type": "markdown",
   "id": "dc60cb1f",
   "metadata": {},
   "source": [
    "Geographic location of crashes"
   ]
  },
  {
   "cell_type": "code",
   "execution_count": null,
   "id": "1c86f825",
   "metadata": {},
   "outputs": [],
   "source": [
    "pass_accidents[pass_accidents[\"Fatalities\"]<10]"
   ]
  },
  {
   "cell_type": "code",
   "execution_count": null,
   "id": "0d43132e",
   "metadata": {
    "scrolled": true
   },
   "outputs": [],
   "source": [
    "pass_accidents[(pass_accidents[\"Country\"]==\"USA\") | (pass_accidents[\"Country\"]==\"United States of America\")]"
   ]
  },
  {
   "cell_type": "code",
   "execution_count": null,
   "id": "55cd01e4",
   "metadata": {},
   "outputs": [],
   "source": [
    "pass_accidents.groupby(\"Country\")[\"Date\"].count()"
   ]
  },
  {
   "cell_type": "code",
   "execution_count": null,
   "id": "30b5e177",
   "metadata": {
    "scrolled": true
   },
   "outputs": [],
   "source": [
    "pass_accidents.groupby(\"Flight type\").count()"
   ]
  },
  {
   "cell_type": "code",
   "execution_count": null,
   "id": "79896802",
   "metadata": {},
   "outputs": [],
   "source": [
    "pass_accidents[\"Flight type\"].unique()"
   ]
  },
  {
   "cell_type": "code",
   "execution_count": null,
   "id": "6e047ec0",
   "metadata": {
    "scrolled": true
   },
   "outputs": [],
   "source": [
    "pass_accidents.groupby(\"Category \\n(unconfirmed)\")[\"#\"].count()"
   ]
  },
  {
   "cell_type": "code",
   "execution_count": null,
   "id": "5b27b37f",
   "metadata": {},
   "outputs": [],
   "source": [
    "pass_"
   ]
  },
  {
   "cell_type": "code",
   "execution_count": null,
   "id": "69db7cd2",
   "metadata": {},
   "outputs": [],
   "source": [
    "pass_accidents[\"Fatalities\"].count()"
   ]
  },
  {
   "cell_type": "code",
   "execution_count": null,
   "id": "d6e6d7ad",
   "metadata": {},
   "outputs": [],
   "source": [
    "pass_accidents[pass_accidents[\"Country\"]!=\"United States of America\"][\"Fatalities\"].sum()"
   ]
  },
  {
   "cell_type": "code",
   "execution_count": null,
   "id": "bbfcfe33",
   "metadata": {
    "scrolled": true
   },
   "outputs": [],
   "source": [
    "pass_accidents.groupby(\"Country\")[\"Fatalities\"].sum().sort_values(ascending=False)"
   ]
  },
  {
   "cell_type": "code",
   "execution_count": null,
   "id": "5555cd0f",
   "metadata": {},
   "outputs": [],
   "source": [
    "pass_accidents.to_csv(\"C:/Users/Stewart/Documents/GitHub/dsc640/pass_accidents.csv\")"
   ]
  },
  {
   "cell_type": "code",
   "execution_count": null,
   "id": "de163841",
   "metadata": {},
   "outputs": [],
   "source": [
    "delta_total.to_csv(\"C://Users/Stewart/Documents/GitHub/dsc640/delta_total.csv\")"
   ]
  },
  {
   "cell_type": "code",
   "execution_count": null,
   "id": "e0fbf774",
   "metadata": {},
   "outputs": [],
   "source": [
    "passengers = pass_accidents[pass_accidents[\"Flight type\"].str.contains(\"Passenger\")]"
   ]
  },
  {
   "cell_type": "code",
   "execution_count": null,
   "id": "5b88a348",
   "metadata": {},
   "outputs": [],
   "source": [
    "passengers.shape"
   ]
  },
  {
   "cell_type": "code",
   "execution_count": null,
   "id": "8f29e81b",
   "metadata": {},
   "outputs": [],
   "source": [
    "scheduled = pass_accidents[pass_accidents[\"Flight type\"].str.contains(\"Scheduled\")]"
   ]
  },
  {
   "cell_type": "code",
   "execution_count": null,
   "id": "5073e342",
   "metadata": {},
   "outputs": [],
   "source": [
    "scheduled= pass_accidents[pass_accidents[\"Flight type\"].str.contains(\"Non\")==False & (pass_accidents[\"Flight type\"] != \"Cargo\")]"
   ]
  },
  {
   "cell_type": "code",
   "execution_count": null,
   "id": "2898dc74",
   "metadata": {},
   "outputs": [],
   "source": [
    "scheduled = scheduled[scheduled[\"Flight type\"]!=\"Cargo\"]"
   ]
  },
  {
   "cell_type": "code",
   "execution_count": null,
   "id": "4d13155c",
   "metadata": {},
   "outputs": [],
   "source": [
    "scheduled[\"Flight type\"].unique()"
   ]
  },
  {
   "cell_type": "code",
   "execution_count": null,
   "id": "c1b9fcdb",
   "metadata": {},
   "outputs": [],
   "source": [
    "passengers[\"Scheduled\"] = [1 if \"Non\" not in flight else 0 for flight in passengers[\"Flight type\"]]"
   ]
  },
  {
   "cell_type": "code",
   "execution_count": null,
   "id": "055cf535",
   "metadata": {},
   "outputs": [],
   "source": [
    "passengers[\"Non-Scheduled\"] = [1 if \"Non\" in flight else 0 for flight in passengers[\"Flight type\"] ]"
   ]
  },
  {
   "cell_type": "code",
   "execution_count": null,
   "id": "cdc9d37d",
   "metadata": {
    "scrolled": true
   },
   "outputs": [],
   "source": [
    "passengers.drop(\"Non-Scheduled\", axis=1, inplace=True)"
   ]
  },
  {
   "cell_type": "code",
   "execution_count": null,
   "id": "eabca9ab",
   "metadata": {},
   "outputs": [],
   "source": [
    "pass_accidents[\"Flight type\"].unique()"
   ]
  },
  {
   "cell_type": "code",
   "execution_count": null,
   "id": "79cd4167",
   "metadata": {},
   "outputs": [],
   "source": [
    "scheduled = ['Domestic Scheduled Passenger', 'International Scheduled Passenger','Scheduled Passenger']\n",
    "non_sched = ['Domestic Non Scheduled Passenger',\"Int'l Non Scheduled Passenger\"'International Non Scheduled Passenger','Non-Scheduled Passenger']"
   ]
  },
  {
   "cell_type": "code",
   "execution_count": null,
   "id": "dd65e7e7",
   "metadata": {},
   "outputs": [],
   "source": []
  },
  {
   "cell_type": "code",
   "execution_count": null,
   "id": "a412f65c",
   "metadata": {},
   "outputs": [],
   "source": [
    "pass_accidents.groupby(\"Phase\").count()"
   ]
  },
  {
   "cell_type": "code",
   "execution_count": null,
   "id": "f748ab51",
   "metadata": {
    "scrolled": true
   },
   "outputs": [],
   "source": [
    "pass_accidents[pass_accidents[\"Flight type\"]==\"Passenger\"]"
   ]
  },
  {
   "cell_type": "code",
   "execution_count": null,
   "id": "fccc16e2",
   "metadata": {
    "scrolled": true
   },
   "outputs": [],
   "source": [
    "passengers[\"Flight type2\"] = [\"Scheduled\" if typ in scheduled else \"Non-Scheduled\" for typ in passengers[\"Flight type\"]]"
   ]
  },
  {
   "cell_type": "code",
   "execution_count": null,
   "id": "502bb893",
   "metadata": {},
   "outputs": [],
   "source": [
    "passengers"
   ]
  },
  {
   "cell_type": "code",
   "execution_count": null,
   "id": "9cc150fb",
   "metadata": {},
   "outputs": [],
   "source": [
    "passengers.groupby([\"Flight type2\", \"Phase\"])[\"Fatalities\"].sum()"
   ]
  },
  {
   "cell_type": "code",
   "execution_count": null,
   "id": "a6252641",
   "metadata": {
    "scrolled": true
   },
   "outputs": [],
   "source": [
    "passengers[\"Flight type2\"]"
   ]
  },
  {
   "cell_type": "code",
   "execution_count": null,
   "id": "cffdd41b",
   "metadata": {
    "scrolled": false
   },
   "outputs": [],
   "source": [
    "passengers "
   ]
  },
  {
   "cell_type": "code",
   "execution_count": null,
   "id": "f3db3669",
   "metadata": {},
   "outputs": [],
   "source": [
    "sched_fat = [sum(count) for count in passengers if passengers[\"Scheduled\"]==1]"
   ]
  },
  {
   "cell_type": "code",
   "execution_count": null,
   "id": "180c365b",
   "metadata": {
    "scrolled": true
   },
   "outputs": [],
   "source": [
    "[1 if \"Non\" not in flight else 0 for flight in pass_accidents[\"Flight type\"] ]"
   ]
  },
  {
   "cell_type": "code",
   "execution_count": null,
   "id": "f08474b9",
   "metadata": {},
   "outputs": [],
   "source": [
    "non_scheduled2 = pass_accidents[pass_accidents[\"Flight type\"].str.contains(\"Non Scheduled\")]"
   ]
  },
  {
   "cell_type": "code",
   "execution_count": null,
   "id": "b0d6f83f",
   "metadata": {},
   "outputs": [],
   "source": [
    "non_sched = pd.concat([non_scheduled, non_scheduled2])"
   ]
  },
  {
   "cell_type": "code",
   "execution_count": 31,
   "id": "80cb4d0c",
   "metadata": {},
   "outputs": [
    {
     "ename": "NameError",
     "evalue": "name 'non_sched' is not defined",
     "output_type": "error",
     "traceback": [
      "\u001b[1;31m---------------------------------------------------------------------------\u001b[0m",
      "\u001b[1;31mNameError\u001b[0m                                 Traceback (most recent call last)",
      "\u001b[1;32m~\\AppData\\Local\\Temp/ipykernel_29028/2715209273.py\u001b[0m in \u001b[0;36m<module>\u001b[1;34m\u001b[0m\n\u001b[1;32m----> 1\u001b[1;33m \u001b[0mnon_sched\u001b[0m\u001b[1;33m[\u001b[0m\u001b[1;34m\"Flight type\"\u001b[0m\u001b[1;33m]\u001b[0m\u001b[1;33m.\u001b[0m\u001b[0munique\u001b[0m\u001b[1;33m(\u001b[0m\u001b[1;33m)\u001b[0m\u001b[1;33m\u001b[0m\u001b[1;33m\u001b[0m\u001b[0m\n\u001b[0m",
      "\u001b[1;31mNameError\u001b[0m: name 'non_sched' is not defined"
     ]
    }
   ],
   "source": [
    "non_sched[\"Flight type\"].unique()"
   ]
  },
  {
   "cell_type": "code",
   "execution_count": null,
   "id": "b688be51",
   "metadata": {},
   "outputs": [],
   "source": [
    "delta_rpm.to_csv(\"C://Users/Stewart/Documents/GitHub/dsc640/delta_rpm.csv\")"
   ]
  },
  {
   "cell_type": "code",
   "execution_count": null,
   "id": "f80d4495",
   "metadata": {
    "scrolled": false
   },
   "outputs": [],
   "source": [
    "delta_total"
   ]
  },
  {
   "cell_type": "code",
   "execution_count": null,
   "id": "86cc6e1c",
   "metadata": {},
   "outputs": [],
   "source": [
    "passengers.to_csv(\"C://Users/Stewart/Documents/GitHub/dsc640/passengers.csv\")"
   ]
  },
  {
   "cell_type": "code",
   "execution_count": null,
   "id": "e0932abe",
   "metadata": {
    "scrolled": true
   },
   "outputs": [],
   "source": [
    "passengers[passengers[\"Fatalities\"]==0]"
   ]
  },
  {
   "cell_type": "code",
   "execution_count": null,
   "id": "984dd9aa",
   "metadata": {},
   "outputs": [],
   "source": []
  }
 ],
 "metadata": {
  "kernelspec": {
   "display_name": "Python 3 (ipykernel)",
   "language": "python",
   "name": "python3"
  },
  "language_info": {
   "codemirror_mode": {
    "name": "ipython",
    "version": 3
   },
   "file_extension": ".py",
   "mimetype": "text/x-python",
   "name": "python",
   "nbconvert_exporter": "python",
   "pygments_lexer": "ipython3",
   "version": "3.9.7"
  }
 },
 "nbformat": 4,
 "nbformat_minor": 5
}
